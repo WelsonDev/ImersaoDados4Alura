{
  "cells": [
    {
      "cell_type": "markdown",
      "metadata": {
        "colab_type": "text",
        "id": "view-in-github"
      },
      "source": [
        "<a href=\"https://colab.research.google.com/github/WelsonDev/ImersaoDados4Alura/blob/main/ImersaoDados4Alura.ipynb\" target=\"_parent\"><img src=\"https://colab.research.google.com/assets/colab-badge.svg\" alt=\"Open In Colab\"/></a>"
      ]
    },
    {
      "cell_type": "code",
      "execution_count": null,
      "metadata": {
        "colab": {
          "base_uri": "https://localhost:8080/",
          "height": 206
        },
        "id": "pKUbIjudJixZ",
        "outputId": "91c7432a-f9de-4fa6-9343-d89b12cefa02"
      },
      "outputs": [],
      "source": [
        "import pandas as pd\n",
        "\n",
        "link = (\"https://gist.githubusercontent.com/WelsonDev/47e6459bcb4fe18d691045f64ac239ea/raw/53ba91b5a1d6e37f0eaba0d226360032998e514a/dados_imoveis.csv\")\n",
        "dados = pd.read_csv(link)\n",
        "dados.head()\n",
        "# https://www.alura.com.br/imersao-dados-4/aula01-colab-python-pandas\n",
        "# https://gist.github.com/WelsonDev/47e6459bcb4fe18d691045f64ac239ea#file-dados_imoveis-csv\n"
      ]
    },
    {
      "cell_type": "code",
      "execution_count": null,
      "metadata": {
        "colab": {
          "base_uri": "https://localhost:8080/",
          "height": 423
        },
        "id": "3VP8LMRsTdvr",
        "outputId": "8116a32e-d77c-4cfa-984a-de2ee648cf14"
      },
      "outputs": [],
      "source": [
        "dados"
      ]
    },
    {
      "cell_type": "code",
      "execution_count": null,
      "metadata": {
        "colab": {
          "base_uri": "https://localhost:8080/",
          "height": 80
        },
        "id": "IEKXE4ptznlX",
        "outputId": "a336ac74-ee6b-4fd3-c907-0780f493f740"
      },
      "outputs": [],
      "source": [
        "dados.sample()"
      ]
    },
    {
      "cell_type": "code",
      "execution_count": null,
      "metadata": {
        "colab": {
          "base_uri": "https://localhost:8080/"
        },
        "id": "wB_JLLFf-k7Q",
        "outputId": "12956fbc-67d5-47ab-a563-4574a8ead8ba"
      },
      "outputs": [],
      "source": [
        "dados.info()"
      ]
    },
    {
      "cell_type": "code",
      "execution_count": null,
      "metadata": {
        "colab": {
          "base_uri": "https://localhost:8080/",
          "height": 35
        },
        "id": "aG6W39la1Ecq",
        "outputId": "c692e49b-ec02-496e-f0a0-84ac0c4617cb"
      },
      "outputs": [],
      "source": [
        "dados[\"Bairro\"][569]"
      ]
    },
    {
      "cell_type": "code",
      "execution_count": null,
      "metadata": {
        "colab": {
          "base_uri": "https://localhost:8080/"
        },
        "id": "IJspGiXd1HyO",
        "outputId": "c56130b8-c9c9-4488-ad8a-037c34ca07cf"
      },
      "outputs": [],
      "source": [
        "dados[\"Metragem\"].mean()"
      ]
    },
    {
      "cell_type": "code",
      "execution_count": null,
      "metadata": {
        "colab": {
          "base_uri": "https://localhost:8080/"
        },
        "id": "OJuxRiTo2rwb",
        "outputId": "34539bb1-301c-4742-ddac-1b256999bf83"
      },
      "outputs": [],
      "source": [
        "sum((dados[\"Bairro\"] == \"Vila Mariana\"))"
      ]
    },
    {
      "cell_type": "code",
      "execution_count": null,
      "metadata": {
        "colab": {
          "base_uri": "https://localhost:8080/"
        },
        "id": "uZMsmAC1-8bw",
        "outputId": "d27bcdce-4dd2-493c-b3cf-36324dfe04de"
      },
      "outputs": [],
      "source": [
        "tem_imoveis_vila =( dados[\"Bairro\"] == \"Vila Mariana\")\n",
        "tem_imoveis_vila"
      ]
    },
    {
      "cell_type": "code",
      "execution_count": null,
      "metadata": {
        "colab": {
          "base_uri": "https://localhost:8080/",
          "height": 423
        },
        "id": "7g6uW75O_AHO",
        "outputId": "f07cca23-78bf-460d-dc22-0514f9f1e38e"
      },
      "outputs": [],
      "source": [
        "imoveis_vila_mariana = dados[tem_imoveis_vila]\n",
        "imoveis_vila_mariana"
      ]
    },
    {
      "cell_type": "code",
      "execution_count": null,
      "metadata": {
        "colab": {
          "base_uri": "https://localhost:8080/"
        },
        "id": "f2cg2HPk_E3K",
        "outputId": "7e4795e2-766b-4511-ccb1-65bef1b88759"
      },
      "outputs": [],
      "source": [
        "imoveis_vila_mariana[\"Metragem\"].mean()"
      ]
    },
    {
      "cell_type": "code",
      "execution_count": null,
      "metadata": {
        "colab": {
          "base_uri": "https://localhost:8080/"
        },
        "id": "FSRyaT3V_Fw-",
        "outputId": "96eb0ea7-bc6f-4f47-da64-34acf9991d4a"
      },
      "outputs": [],
      "source": [
        "dados[\"Bairro\"].value_counts()"
      ]
    },
    {
      "cell_type": "code",
      "execution_count": null,
      "metadata": {
        "colab": {
          "base_uri": "https://localhost:8080/",
          "height": 357
        },
        "id": "Etj_jYUD_IOx",
        "outputId": "5481086f-2149-4309-fed2-dd35d3063c23"
      },
      "outputs": [],
      "source": [
        "n_imoveis_bairro = dados[\"Bairro\"].value_counts()\n",
        "n_imoveis_bairro.head(10).plot.bar()"
      ]
    },
    {
      "cell_type": "markdown",
      "metadata": {
        "id": "8NAOFFT2_QID"
      },
      "source": [
        "Desafios:\n",
        "\n",
        "1 - Realizar a média da metragem para cara um dos bairros (Paulo)\n",
        "\n",
        "2 - 2 formas de selecionar os dados por bairro (consultar os métodos na documentação do pandas) (Thiago)\n",
        "\n",
        "3 - Explorar alguns gráficos na documentação e aplicar nas demais colunas do DF, tentar colocar alguma conclusão (Thiago)\n",
        "\n",
        "4 - Pegar outros estatísticas dos dados, média, mediana, mim, max (Vivi)\n",
        "\n",
        "5 - Descobrir quais são os bairros que não tem nome de Rua. (Vivi)\n"
      ]
    },
    {
      "cell_type": "code",
      "execution_count": null,
      "metadata": {
        "colab": {
          "base_uri": "https://localhost:8080/",
          "height": 423
        },
        "id": "iOiVTR-yxK93",
        "outputId": "57256ced-ec08-429e-8437-e154be19fdb4"
      },
      "outputs": [],
      "source": [
        "# 1 - Realizar a média da metragem para cara um dos bairros (Paulo)\n",
        "\n",
        "#Quant_imoveis_bairro = dados[\"Bairro\"] = Quant_imoveis_bairro[\"Metragem\"].mean()\n",
        "dados.groupby('Bairro').mean()[\"Metragem\"].reset_index()"
      ]
    },
    {
      "cell_type": "code",
      "execution_count": null,
      "metadata": {
        "colab": {
          "base_uri": "https://localhost:8080/",
          "height": 206
        },
        "id": "h_CM0jONYFLx",
        "outputId": "c2e9ee32-2c9d-4d97-dd3b-9e217b989780"
      },
      "outputs": [],
      "source": [
        "#2 - 2 formas de selecionar os dados por bairro (consultar os métodos na documentação do pandas) (Thiago)\n",
        "dados[:5]"
      ]
    },
    {
      "cell_type": "code",
      "execution_count": null,
      "metadata": {
        "colab": {
          "base_uri": "https://localhost:8080/"
        },
        "id": "7-xO-mA4zvtL",
        "outputId": "be94e4b7-6edb-445c-f20e-c300d72b37b6"
      },
      "outputs": [],
      "source": [
        "dados[\"Metragem\"].max()"
      ]
    },
    {
      "cell_type": "code",
      "execution_count": null,
      "metadata": {
        "colab": {
          "base_uri": "https://localhost:8080/"
        },
        "id": "8HGwXcVTHd7M",
        "outputId": "f992017f-8ad6-4e9a-c285-c135cca6c4b5"
      },
      "outputs": [],
      "source": [
        "#dados.groupby(\"Bairro\").min()[\"Metragem\"].reset_index()\n",
        "dados[\"Metragem\"].min()"
      ]
    },
    {
      "cell_type": "code",
      "execution_count": null,
      "metadata": {
        "colab": {
          "base_uri": "https://localhost:8080/"
        },
        "id": "h5lUIQ30inN5",
        "outputId": "891707e2-6a4d-4c29-a2ce-32b466599abf"
      },
      "outputs": [],
      "source": [
        "dados[\"Metragem\"].mean()"
      ]
    }
  ],
  "metadata": {
    "colab": {
      "include_colab_link": true,
      "name": "ImersaoDados4Alura.ipynb",
      "provenance": []
    },
    "kernelspec": {
      "display_name": "Python 3 (ipykernel)",
      "language": "python",
      "name": "python3"
    },
    "language_info": {
      "codemirror_mode": {
        "name": "ipython",
        "version": 3
      },
      "file_extension": ".py",
      "mimetype": "text/x-python",
      "name": "python",
      "nbconvert_exporter": "python",
      "pygments_lexer": "ipython3",
      "version": "3.11.1"
    }
  },
  "nbformat": 4,
  "nbformat_minor": 0
}
