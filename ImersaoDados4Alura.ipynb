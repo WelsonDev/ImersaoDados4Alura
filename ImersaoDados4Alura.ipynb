{
 "cells": [
  {
   "cell_type": "markdown",
   "metadata": {
    "colab_type": "text",
    "id": "view-in-github"
   },
   "source": [
    "<a href=\"https://colab.research.google.com/github/WelsonDev/ImersaoDados4Alura/blob/main/ImersaoDados4Alura.ipynb\" target=\"_parent\"><img src=\"https://colab.research.google.com/assets/colab-badge.svg\" alt=\"Open In Colab\"/></a>"
   ]
  },
  {
   "cell_type": "code",
   "execution_count": 5,
   "metadata": {
    "colab": {
     "base_uri": "https://localhost:8080/",
     "height": 766
    },
    "id": "pKUbIjudJixZ",
    "outputId": "654ed232-2308-495d-d25d-3a7592690586"
   },
   "outputs": [
    {
     "data": {
      "text/html": [
       "<div>\n",
       "<style scoped>\n",
       "    .dataframe tbody tr th:only-of-type {\n",
       "        vertical-align: middle;\n",
       "    }\n",
       "\n",
       "    .dataframe tbody tr th {\n",
       "        vertical-align: top;\n",
       "    }\n",
       "\n",
       "    .dataframe thead th {\n",
       "        text-align: right;\n",
       "    }\n",
       "</style>\n",
       "<table border=\"1\" class=\"dataframe\">\n",
       "  <thead>\n",
       "    <tr style=\"text-align: right;\">\n",
       "      <th></th>\n",
       "      <th>Rua</th>\n",
       "      <th>Bairro</th>\n",
       "      <th>Cidade</th>\n",
       "      <th>Metragem</th>\n",
       "      <th>Quartos</th>\n",
       "      <th>Banheiros</th>\n",
       "      <th>Vagas</th>\n",
       "      <th>Valor</th>\n",
       "    </tr>\n",
       "  </thead>\n",
       "  <tbody>\n",
       "    <tr>\n",
       "      <th>0</th>\n",
       "      <td>Avenida Itacira, 255</td>\n",
       "      <td>Planalto Paulista</td>\n",
       "      <td>São Paulo</td>\n",
       "      <td>1000</td>\n",
       "      <td>4</td>\n",
       "      <td>8</td>\n",
       "      <td>6</td>\n",
       "      <td>R$ 7.000.000</td>\n",
       "    </tr>\n",
       "    <tr>\n",
       "      <th>1</th>\n",
       "      <td>Rua Aurelia Perez Alvarez, 42</td>\n",
       "      <td>Jardim dos Estados</td>\n",
       "      <td>São Paulo</td>\n",
       "      <td>496</td>\n",
       "      <td>4</td>\n",
       "      <td>4</td>\n",
       "      <td>4</td>\n",
       "      <td>R$ 3.700.000</td>\n",
       "    </tr>\n",
       "    <tr>\n",
       "      <th>2</th>\n",
       "      <td>Rua Alba Valdez</td>\n",
       "      <td>Jardim Reimberg</td>\n",
       "      <td>São Paulo</td>\n",
       "      <td>125</td>\n",
       "      <td>4</td>\n",
       "      <td>3</td>\n",
       "      <td>2</td>\n",
       "      <td>R$ 380.000</td>\n",
       "    </tr>\n",
       "    <tr>\n",
       "      <th>3</th>\n",
       "      <td>NaN</td>\n",
       "      <td>Jardim Morumbi</td>\n",
       "      <td>São Paulo</td>\n",
       "      <td>310</td>\n",
       "      <td>3</td>\n",
       "      <td>2</td>\n",
       "      <td>4</td>\n",
       "      <td>R$ 685.000</td>\n",
       "    </tr>\n",
       "    <tr>\n",
       "      <th>4</th>\n",
       "      <td>Rua Tobias Barreto, 195</td>\n",
       "      <td>Mooca</td>\n",
       "      <td>São Paulo</td>\n",
       "      <td>100</td>\n",
       "      <td>3</td>\n",
       "      <td>2</td>\n",
       "      <td>2</td>\n",
       "      <td>R$ 540.000</td>\n",
       "    </tr>\n",
       "  </tbody>\n",
       "</table>\n",
       "</div>"
      ],
      "text/plain": [
       "                              Rua              Bairro     Cidade  Metragem  \\\n",
       "0           Avenida Itacira, 255    Planalto Paulista  São Paulo      1000   \n",
       "1  Rua Aurelia Perez Alvarez, 42   Jardim dos Estados  São Paulo       496   \n",
       "2                 Rua Alba Valdez     Jardim Reimberg  São Paulo       125   \n",
       "3                             NaN      Jardim Morumbi  São Paulo       310   \n",
       "4        Rua Tobias Barreto, 195                Mooca  São Paulo       100   \n",
       "\n",
       "   Quartos  Banheiros  Vagas         Valor  \n",
       "0        4          8      6  R$ 7.000.000  \n",
       "1        4          4      4  R$ 3.700.000  \n",
       "2        4          3      2    R$ 380.000  \n",
       "3        3          2      4    R$ 685.000  \n",
       "4        3          2      2    R$ 540.000  "
      ]
     },
     "execution_count": 5,
     "metadata": {},
     "output_type": "execute_result"
    }
   ],
   "source": [
    "import pandas as pd\n",
    "\n",
    "link = (\"https://gist.githubusercontent.com/WelsonDev/47e6459bcb4fe18d691045f64ac239ea/raw/53ba91b5a1d6e37f0eaba0d226360032998e514a/dados_imoveis.csv\")\n",
    "dados = pd.read_csv(link)\n",
    "dados.head()\n",
    "# https://www.alura.com.br/imersao-dados-4/aula01-colab-python-pandas\n",
    "# https://gist.github.com/WelsonDev/47e6459bcb4fe18d691045f64ac239ea#file-dados_imoveis-csv\n"
   ]
  },
  {
   "cell_type": "code",
   "execution_count": null,
   "metadata": {},
   "outputs": [],
   "source": []
  }
 ],
 "metadata": {
  "colab": {
   "authorship_tag": "ABX9TyOPBARmoZBRqK62jIc4hAGU",
   "collapsed_sections": [],
   "include_colab_link": true,
   "name": "ImersaoDados4Alura.ipynb",
   "provenance": []
  },
  "kernelspec": {
   "display_name": "Python 3 (ipykernel)",
   "language": "python",
   "name": "python3"
  },
  "language_info": {
   "codemirror_mode": {
    "name": "ipython",
    "version": 3
   },
   "file_extension": ".py",
   "mimetype": "text/x-python",
   "name": "python",
   "nbconvert_exporter": "python",
   "pygments_lexer": "ipython3",
   "version": "3.10.4"
  }
 },
 "nbformat": 4,
 "nbformat_minor": 1
}
